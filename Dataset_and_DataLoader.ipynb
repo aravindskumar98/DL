{
  "nbformat": 4,
  "nbformat_minor": 0,
  "metadata": {
    "colab": {
      "name": "Dataset and DataLoader.ipynb",
      "provenance": [],
      "authorship_tag": "ABX9TyNXS4uV2uFclqviyVwhe7RL",
      "include_colab_link": true
    },
    "kernelspec": {
      "name": "python3",
      "display_name": "Python 3"
    },
    "language_info": {
      "name": "python"
    }
  },
  "cells": [
    {
      "cell_type": "markdown",
      "metadata": {
        "id": "view-in-github",
        "colab_type": "text"
      },
      "source": [
        "<a href=\"https://colab.research.google.com/github/aravindskumar98/DL/blob/main/Dataset_and_DataLoader.ipynb\" target=\"_parent\"><img src=\"https://colab.research.google.com/assets/colab-badge.svg\" alt=\"Open In Colab\"/></a>"
      ]
    },
    {
      "cell_type": "code",
      "execution_count": 1,
      "metadata": {
        "id": "sWI1f42whw5A",
        "colab": {
          "base_uri": "https://localhost:8080/",
          "height": 53
        },
        "outputId": "6690b783-afc4-420b-c017-99865601e28b"
      },
      "outputs": [
        {
          "output_type": "execute_result",
          "data": {
            "application/vnd.google.colaboratory.intrinsic+json": {
              "type": "string"
            },
            "text/plain": [
              "'\\n## Batches!!\\n\\nepoch = 1 forawrd and backward pass of ALL training samples\\n\\nbatch_size - number of training samples in one forward and backward pass\\n\\nnumber_of_iterations = number of passes, each pass using [batch_size] number of samples\\n\\ne.g. 100 samples, batch_size = 20 --> 100/20 = 5 iterations for 1 epoch\\n'"
            ]
          },
          "metadata": {},
          "execution_count": 1
        }
      ],
      "source": [
        "'''\n",
        "## Batches!!\n",
        "\n",
        "epoch = 1 forawrd and backward pass of ALL training samples\n",
        "\n",
        "batch_size - number of training samples in one forward and backward pass\n",
        "\n",
        "number_of_iterations = number of passes, each pass using [batch_size] number of samples\n",
        "\n",
        "e.g. 100 samples, batch_size = 20 --> 100/20 = 5 iterations for 1 epoch\n",
        "'''\n"
      ]
    },
    {
      "cell_type": "code",
      "source": [
        "import torch\n",
        "import torchvision\n",
        "from torch.utils.data import Dataset, DataLoader\n",
        "import numpy as np\n",
        "import math"
      ],
      "metadata": {
        "id": "z3aO2xuTnaCw"
      },
      "execution_count": 2,
      "outputs": []
    },
    {
      "cell_type": "code",
      "source": [
        "class WineDataset(Dataset):\n",
        "  \n",
        "  def __init__(self):\n",
        "    # data loading\n",
        "    xy = np.loadtxt('wine.csv',delimiter=',',dtype = np.float32, skiprows=1) ##skiprows skips the header\n",
        "    self.x = xy[:,1:]\n",
        "    self.y = xy[:,[0]] ##n_samples, 1 ---> emphasis on [0]\n",
        "\n",
        "    self.x = torch.from_numpy(self.x)\n",
        "    self.y = torch.from_numpy(self.y)\n",
        "    self.n_samples = xy.shape[0]\n",
        "\n",
        "  def __getitem__(self,index):\n",
        "    # dataset[0]\n",
        "    return self.x[index],self.y[index]\n",
        "\n",
        "  def __len__(self):\n",
        "    # len(dataset) \n",
        "    return self.n_samples\n",
        "\n"
      ],
      "metadata": {
        "id": "Nu3xBs2znn-r"
      },
      "execution_count": 3,
      "outputs": []
    },
    {
      "cell_type": "code",
      "source": [
        "dataset = WineDataset()\n",
        "first_data = dataset[0]\n",
        "features,labels = first_data\n",
        "print(features,labels)"
      ],
      "metadata": {
        "colab": {
          "base_uri": "https://localhost:8080/"
        },
        "id": "rGuTZCfGqaCJ",
        "outputId": "03c61d89-5db2-4452-ac92-71fe6dca6d7c"
      },
      "execution_count": 5,
      "outputs": [
        {
          "output_type": "stream",
          "name": "stdout",
          "text": [
            "tensor([1.4230e+01, 1.7100e+00, 2.4300e+00, 1.5600e+01, 1.2700e+02, 2.8000e+00,\n",
            "        3.0600e+00, 2.8000e-01, 2.2900e+00, 5.6400e+00, 1.0400e+00, 3.9200e+00,\n",
            "        1.0650e+03]) tensor([1.])\n"
          ]
        }
      ]
    },
    {
      "cell_type": "code",
      "source": [
        "dataloader = DataLoader(dataset=dataset, batch_size = 4, shuffle=True, num_workers = 2) ##create dataloader\n",
        "\n",
        "dataiter = iter(dataloader)\n",
        "data = dataiter.next()\n",
        "\n",
        "features, labels = data\n",
        "print(features,labels)\n"
      ],
      "metadata": {
        "id": "YEMZFcPiqub2",
        "colab": {
          "base_uri": "https://localhost:8080/"
        },
        "outputId": "f02adb54-ec80-4cb4-883f-f1c29a968063"
      },
      "execution_count": 6,
      "outputs": [
        {
          "output_type": "stream",
          "name": "stdout",
          "text": [
            "tensor([[1.1030e+01, 1.5100e+00, 2.2000e+00, 2.1500e+01, 8.5000e+01, 2.4600e+00,\n",
            "         2.1700e+00, 5.2000e-01, 2.0100e+00, 1.9000e+00, 1.7100e+00, 2.8700e+00,\n",
            "         4.0700e+02],\n",
            "        [1.3720e+01, 1.4300e+00, 2.5000e+00, 1.6700e+01, 1.0800e+02, 3.4000e+00,\n",
            "         3.6700e+00, 1.9000e-01, 2.0400e+00, 6.8000e+00, 8.9000e-01, 2.8700e+00,\n",
            "         1.2850e+03],\n",
            "        [1.2370e+01, 1.6300e+00, 2.3000e+00, 2.4500e+01, 8.8000e+01, 2.2200e+00,\n",
            "         2.4500e+00, 4.0000e-01, 1.9000e+00, 2.1200e+00, 8.9000e-01, 2.7800e+00,\n",
            "         3.4200e+02],\n",
            "        [1.3480e+01, 1.6700e+00, 2.6400e+00, 2.2500e+01, 8.9000e+01, 2.6000e+00,\n",
            "         1.1000e+00, 5.2000e-01, 2.2900e+00, 1.1750e+01, 5.7000e-01, 1.7800e+00,\n",
            "         6.2000e+02]]) tensor([[2.],\n",
            "        [1.],\n",
            "        [2.],\n",
            "        [3.]])\n"
          ]
        }
      ]
    },
    {
      "cell_type": "code",
      "source": [
        "## training loop\n",
        "\n",
        "num_epochs = 2\n",
        "total_samples = len(dataset)\n",
        "n_iterations = math.ceil(total_samples/4) ##batchsize = 4\n",
        "print(total_samples,n_iterations)"
      ],
      "metadata": {
        "colab": {
          "base_uri": "https://localhost:8080/"
        },
        "id": "nX4uJd_nBsgU",
        "outputId": "104aa962-dfab-4d07-8f95-37e168971cf6"
      },
      "execution_count": 7,
      "outputs": [
        {
          "output_type": "stream",
          "name": "stdout",
          "text": [
            "178 45\n"
          ]
        }
      ]
    },
    {
      "cell_type": "code",
      "source": [
        "for epoch in range(num_epochs):\n",
        "  for i, (input,labels) in enumerate(dataloader):\n",
        "    ## forward,backward,update ---->> This is a dummy loop\n",
        "    if (i+1)%5==0:\n",
        "      print(epoch,\"/\",num_epochs,\" step =\",i+1,\"/\",n_iterations, input.shape)"
      ],
      "metadata": {
        "colab": {
          "base_uri": "https://localhost:8080/"
        },
        "id": "I7UnU8DHCYgs",
        "outputId": "900e18ff-3870-437f-8539-6471a238f9a1"
      },
      "execution_count": 8,
      "outputs": [
        {
          "output_type": "stream",
          "name": "stdout",
          "text": [
            "0 / 2  step = 5 / 45 torch.Size([4, 13])\n",
            "0 / 2  step = 10 / 45 torch.Size([4, 13])\n",
            "0 / 2  step = 15 / 45 torch.Size([4, 13])\n",
            "0 / 2  step = 20 / 45 torch.Size([4, 13])\n",
            "0 / 2  step = 25 / 45 torch.Size([4, 13])\n",
            "0 / 2  step = 30 / 45 torch.Size([4, 13])\n",
            "0 / 2  step = 35 / 45 torch.Size([4, 13])\n",
            "0 / 2  step = 40 / 45 torch.Size([4, 13])\n",
            "0 / 2  step = 45 / 45 torch.Size([2, 13])\n",
            "1 / 2  step = 5 / 45 torch.Size([4, 13])\n",
            "1 / 2  step = 10 / 45 torch.Size([4, 13])\n",
            "1 / 2  step = 15 / 45 torch.Size([4, 13])\n",
            "1 / 2  step = 20 / 45 torch.Size([4, 13])\n",
            "1 / 2  step = 25 / 45 torch.Size([4, 13])\n",
            "1 / 2  step = 30 / 45 torch.Size([4, 13])\n",
            "1 / 2  step = 35 / 45 torch.Size([4, 13])\n",
            "1 / 2  step = 40 / 45 torch.Size([4, 13])\n",
            "1 / 2  step = 45 / 45 torch.Size([2, 13])\n"
          ]
        }
      ]
    },
    {
      "cell_type": "code",
      "source": [
        "torchvision.datasets.MNIST()"
      ],
      "metadata": {
        "id": "p0J-K1zwC6s_"
      },
      "execution_count": null,
      "outputs": []
    }
  ]
}