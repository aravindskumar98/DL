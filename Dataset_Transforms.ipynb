{
  "nbformat": 4,
  "nbformat_minor": 0,
  "metadata": {
    "colab": {
      "name": "Dataset_Transforms.ipynb",
      "provenance": [],
      "authorship_tag": "ABX9TyN6F5eHZ6Nrk+DDSQiVqYpu",
      "include_colab_link": true
    },
    "kernelspec": {
      "name": "python3",
      "display_name": "Python 3"
    },
    "language_info": {
      "name": "python"
    }
  },
  "cells": [
    {
      "cell_type": "markdown",
      "metadata": {
        "id": "view-in-github",
        "colab_type": "text"
      },
      "source": [
        "<a href=\"https://colab.research.google.com/github/aravindskumar98/DL/blob/main/Dataset_Transforms.ipynb\" target=\"_parent\"><img src=\"https://colab.research.google.com/assets/colab-badge.svg\" alt=\"Open In Colab\"/></a>"
      ]
    },
    {
      "cell_type": "code",
      "execution_count": 3,
      "metadata": {
        "id": "W8jo34owDntG"
      },
      "outputs": [],
      "source": [
        "import torch\n",
        "import torchvision\n",
        "from torch.utils.data import Dataset, DataLoader\n",
        "import numpy as np"
      ]
    },
    {
      "cell_type": "code",
      "source": [
        "class WineDataset(Dataset):\n",
        "  def __init__(self, transform = None):\n",
        "    xy = np.loadtxt('wine.csv',delimiter=',',dtype = np.float32,skiprows = 1)\n",
        "    self.n_samples = xy.shape[0]\n",
        "\n",
        "    self.x = xy[:,1:]\n",
        "    self.y = xy[:,[0]]\n",
        "\n",
        "    self.transform  = transform\n",
        "\n",
        "  def __getitem__(self,index):\n",
        "    sample = self.x[index], self.y[index]\n",
        "\n",
        "    if self.transform:\n",
        "      sample = self.transform(sample)\n",
        "    \n",
        "    return sample\n",
        "\n",
        "  def __len__(self):\n",
        "    return self.n_samples\n",
        "\n",
        "## writing some transformations\n",
        "\n",
        "class ToTensor:\n",
        "  def __call__(self,sample): ##callable object\n",
        "    inputs,targets = sample\n",
        "    return torch.from_numpy(inputs),torch.from_numpy(targets)"
      ],
      "metadata": {
        "id": "6ppO6E3XEVUI"
      },
      "execution_count": 6,
      "outputs": []
    },
    {
      "cell_type": "code",
      "source": [
        "dataset = WineDataset(transform=ToTensor())"
      ],
      "metadata": {
        "id": "PZ4mfM6JFcyA"
      },
      "execution_count": 7,
      "outputs": []
    },
    {
      "cell_type": "code",
      "source": [
        "first_data = dataset[0]\n",
        "features,labels = first_data\n",
        "print(type(features),type(labels))"
      ],
      "metadata": {
        "colab": {
          "base_uri": "https://localhost:8080/"
        },
        "id": "5bYf3_FDFhwB",
        "outputId": "32fb5fb7-5157-40a8-f0d3-91f536928377"
      },
      "execution_count": 8,
      "outputs": [
        {
          "output_type": "stream",
          "name": "stdout",
          "text": [
            "<class 'torch.Tensor'> <class 'torch.Tensor'>\n"
          ]
        }
      ]
    },
    {
      "cell_type": "code",
      "source": [
        "## create another transform\n",
        "class MulTransform:\n",
        "  def __init__(self,factor):\n",
        "    self.factor = factor\n",
        "\n",
        "  def __call__(self,sample):\n",
        "    inputs,targets = sample\n",
        "    inputs*=self.factor\n",
        "    return inputs, targets"
      ],
      "metadata": {
        "id": "b_VIbZLaIp1w"
      },
      "execution_count": 11,
      "outputs": []
    },
    {
      "cell_type": "code",
      "source": [
        "## compose two transforms\n",
        "dataset = WineDataset(transform = None)\n",
        "first_data = dataset[0]\n",
        "features,labels = first_data\n",
        "print(type(features),type(labels))\n",
        "print(features)\n",
        "\n",
        "composed = torchvision.transforms.Compose([ToTensor(),MulTransform(2)])\n",
        "dataset = WineDataset(transform = composed)\n",
        "\n",
        "first_data = dataset[0]\n",
        "features,labels = first_data\n",
        "print(type(features),type(labels))\n",
        "print(features)\n"
      ],
      "metadata": {
        "colab": {
          "base_uri": "https://localhost:8080/"
        },
        "id": "Ej1AQT0OJlAa",
        "outputId": "e88a1c46-0e4a-49bc-e570-507812ddb6d4"
      },
      "execution_count": 16,
      "outputs": [
        {
          "output_type": "stream",
          "name": "stdout",
          "text": [
            "<class 'numpy.ndarray'> <class 'numpy.ndarray'>\n",
            "[1.423e+01 1.710e+00 2.430e+00 1.560e+01 1.270e+02 2.800e+00 3.060e+00\n",
            " 2.800e-01 2.290e+00 5.640e+00 1.040e+00 3.920e+00 1.065e+03]\n",
            "<class 'torch.Tensor'> <class 'torch.Tensor'>\n",
            "tensor([2.8460e+01, 3.4200e+00, 4.8600e+00, 3.1200e+01, 2.5400e+02, 5.6000e+00,\n",
            "        6.1200e+00, 5.6000e-01, 4.5800e+00, 1.1280e+01, 2.0800e+00, 7.8400e+00,\n",
            "        2.1300e+03])\n"
          ]
        }
      ]
    },
    {
      "cell_type": "code",
      "source": [
        ""
      ],
      "metadata": {
        "id": "FcJuxp90KAR5"
      },
      "execution_count": null,
      "outputs": []
    }
  ]
}