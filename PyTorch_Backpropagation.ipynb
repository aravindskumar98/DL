{
  "nbformat": 4,
  "nbformat_minor": 0,
  "metadata": {
    "colab": {
      "name": "PyTorch_Backpropagation.ipynb",
      "provenance": [],
      "authorship_tag": "ABX9TyMY7asZJFm2V4U54KJ8XkL7",
      "include_colab_link": true
    },
    "kernelspec": {
      "name": "python3",
      "display_name": "Python 3"
    },
    "language_info": {
      "name": "python"
    }
  },
  "cells": [
    {
      "cell_type": "markdown",
      "metadata": {
        "id": "view-in-github",
        "colab_type": "text"
      },
      "source": [
        "<a href=\"https://colab.research.google.com/github/aravindskumar98/DL/blob/main/PyTorch_Backpropagation.ipynb\" target=\"_parent\"><img src=\"https://colab.research.google.com/assets/colab-badge.svg\" alt=\"Open In Colab\"/></a>"
      ]
    },
    {
      "cell_type": "code",
      "execution_count": 1,
      "metadata": {
        "colab": {
          "base_uri": "https://localhost:8080/"
        },
        "id": "YtLaCOnu8Mak",
        "outputId": "7559d824-384c-4c39-ae3f-b2dd0d39f317"
      },
      "outputs": [
        {
          "output_type": "stream",
          "name": "stdout",
          "text": [
            "tensor(1., grad_fn=<PowBackward0>)\n"
          ]
        }
      ],
      "source": [
        "import torch\n",
        "\n",
        "x = torch.tensor(1.0)\n",
        "y = torch.tensor(2.0)\n",
        "\n",
        "w = torch.tensor(1.0, requires_grad = True)\n",
        "\n",
        "## forward pass\n",
        "y_hat = w * x\n",
        "loss = (y - y_hat)**2\n",
        "print(loss)"
      ]
    },
    {
      "cell_type": "code",
      "source": [
        "#backward pass\n",
        "loss.backward()\n",
        "print(w.grad)"
      ],
      "metadata": {
        "colab": {
          "base_uri": "https://localhost:8080/"
        },
        "id": "NFnYFV--I-V5",
        "outputId": "8362bfe9-38c6-43e3-8f7f-5cfc395d0ca1"
      },
      "execution_count": 2,
      "outputs": [
        {
          "output_type": "stream",
          "name": "stdout",
          "text": [
            "tensor(-2.)\n"
          ]
        }
      ]
    },
    {
      "cell_type": "code",
      "source": [
        "##update weights\n",
        "## next forward and backward!"
      ],
      "metadata": {
        "id": "xzXsiZBSJFul"
      },
      "execution_count": null,
      "outputs": []
    },
    {
      "cell_type": "markdown",
      "source": [
        "# Linear Regression"
      ],
      "metadata": {
        "id": "-Rz9Ij8SJSPf"
      }
    },
    {
      "cell_type": "code",
      "source": [
        "## build from scratch\n",
        "\n",
        "import numpy as np\n",
        "\n",
        "# f = w * x\n",
        "X = np.array([1,2,3,4], dtype = np.float32)\n",
        "y = np.array([2,4,6,8], dtype = np.float32)\n",
        "\n",
        "w = 0.0 #initial weight\n",
        "\n",
        "## model prediction\n",
        "def forward(x):\n",
        "  return w*x\n",
        "\n",
        "## loss = MSE\n",
        "def loss(y,y_predicted):\n",
        "  return ((y-y_predicted)**2).mean()\n",
        "\n",
        "## gradient\n",
        "## MSE = 1/N * (w*x - y ) **2\n",
        "## dJ/dw = 1/N 2x (w*x - y)\n",
        "\n",
        "def gradient(x,y,y_predicted):\n",
        "  return np.dot(2*x,y_predicted-y).mean()\n",
        "\n",
        "print(f'Prediction before training: f(5) = {forward(5):.3f}')\n",
        "\n",
        "## Training\n",
        "learning_rate = 0.01\n",
        "n_iters = 10\n",
        "for epoch in range(n_iters):\n",
        "  #prediction = forward pass\n",
        "  y_pred = forward(X)\n",
        "\n",
        "  #loss\n",
        "  l = loss(y,y_pred)\n",
        "\n",
        "  #gradients\n",
        "  dw = gradient(X,y,y_pred)\n",
        "\n",
        "  #update weights\n",
        "  w -= learning_rate * dw\n",
        "  if epoch%1 == 0:\n",
        "    print(f'epoch {epoch+1}: w = {w:.3f}, loss = {l:.8f}')\n",
        "\n",
        "print(\"Prediction after training\",forward(5))\n"
      ],
      "metadata": {
        "colab": {
          "base_uri": "https://localhost:8080/"
        },
        "id": "eoZSKXRSJWD8",
        "outputId": "0249be7a-7cfd-4995-c783-add73bf6e1af"
      },
      "execution_count": 4,
      "outputs": [
        {
          "output_type": "stream",
          "name": "stdout",
          "text": [
            "Prediction before training: f(5) = 0.000\n",
            "epoch 1: w = 1.200, loss = 30.00000000\n",
            "epoch 2: w = 1.680, loss = 4.79999924\n",
            "epoch 3: w = 1.872, loss = 0.76800019\n",
            "epoch 4: w = 1.949, loss = 0.12288000\n",
            "epoch 5: w = 1.980, loss = 0.01966083\n",
            "epoch 6: w = 1.992, loss = 0.00314574\n",
            "epoch 7: w = 1.997, loss = 0.00050331\n",
            "epoch 8: w = 1.999, loss = 0.00008053\n",
            "epoch 9: w = 1.999, loss = 0.00001288\n",
            "epoch 10: w = 2.000, loss = 0.00000206\n",
            "Prediction after training 9.998951268196105\n"
          ]
        }
      ]
    },
    {
      "cell_type": "markdown",
      "source": [
        "## PyTorch only"
      ],
      "metadata": {
        "id": "K6pvZREgMd2l"
      }
    },
    {
      "cell_type": "code",
      "source": [
        "\n",
        "\n",
        "import torch\n",
        "\n",
        "# f = w * x\n",
        "X = torch.tensor([1,2,3,4], dtype = torch.float32)\n",
        "y = torch.tensor([2,4,6,8], dtype = torch.float32)\n",
        "\n",
        "w = torch.tensor(0.0, dtype=torch.float32, requires_grad = True) #initial weight\n",
        "\n",
        "## model prediction\n",
        "def forward(x):\n",
        "  return w*x\n",
        "\n",
        "## loss = MSE\n",
        "def loss(y,y_predicted):\n",
        "  return ((y-y_predicted)**2).mean()\n",
        "\n",
        "print(f'Prediction before training: f(5) = {forward(5):.3f}')\n",
        "\n",
        "## Training\n",
        "learning_rate = 0.01\n",
        "n_iters = 100\n",
        "for epoch in range(n_iters):\n",
        "  #prediction = forward pass\n",
        "  y_pred = forward(X)\n",
        "\n",
        "  #loss\n",
        "  l = loss(y,y_pred)\n",
        "\n",
        "  #gradients of loss wrt w is calculated\n",
        "  l.backward()\n",
        "\n",
        "  #update weights\n",
        "  with torch.no_grad():\n",
        "    w -= learning_rate * w.grad ##this should not be included in gradient calculation\n",
        "\n",
        "  #zero gradients\n",
        "  w.grad.zero_()\n",
        "\n",
        "  if epoch%10 == 0:\n",
        "    print(f'epoch {epoch+1}: w = {w:.3f}, loss = {l:.8f}')\n",
        "\n",
        "print(\"Prediction after training\",forward(5))\n"
      ],
      "metadata": {
        "colab": {
          "base_uri": "https://localhost:8080/"
        },
        "id": "RfdFeVi7MIRs",
        "outputId": "3cb8ae9e-752c-4a07-8cf6-4c72198cf1ef"
      },
      "execution_count": 6,
      "outputs": [
        {
          "output_type": "stream",
          "name": "stdout",
          "text": [
            "Prediction before training: f(5) = 0.000\n",
            "epoch 1: w = 0.300, loss = 30.00000000\n",
            "epoch 11: w = 1.665, loss = 1.16278565\n",
            "epoch 21: w = 1.934, loss = 0.04506890\n",
            "epoch 31: w = 1.987, loss = 0.00174685\n",
            "epoch 41: w = 1.997, loss = 0.00006770\n",
            "epoch 51: w = 1.999, loss = 0.00000262\n",
            "epoch 61: w = 2.000, loss = 0.00000010\n",
            "epoch 71: w = 2.000, loss = 0.00000000\n",
            "epoch 81: w = 2.000, loss = 0.00000000\n",
            "epoch 91: w = 2.000, loss = 0.00000000\n",
            "Prediction after training tensor(10.0000, grad_fn=<MulBackward0>)\n"
          ]
        }
      ]
    },
    {
      "cell_type": "code",
      "source": [
        "## This is less accurate than the perfect math model from before. But generalises well"
      ],
      "metadata": {
        "id": "673g-4zbNxoz"
      },
      "execution_count": null,
      "outputs": []
    },
    {
      "cell_type": "markdown",
      "source": [
        "# Replace manually computed loss and parameter updates"
      ],
      "metadata": {
        "id": "ZQUMxxwaOB4R"
      }
    },
    {
      "cell_type": "code",
      "source": [
        "# 1) Design model (input, output size, forward pass)\n",
        "# 2) Construct loss and optimizer\n",
        "# 3) Training loop\n",
        "    # - forward pass - compute Prediction\n",
        "    # - backward pass - gradients\n",
        "    # - update weights\n",
        "\n",
        "import torch\n",
        "import torch.nn as nn\n",
        "\n",
        "# f = w * x\n",
        "X = torch.tensor([1,2,3,4], dtype = torch.float32)\n",
        "y = torch.tensor([2,4,6,8], dtype = torch.float32)\n",
        "\n",
        "w = torch.tensor(0.0, dtype=torch.float32, requires_grad = True) #initial weight\n",
        "\n",
        "## model prediction\n",
        "def forward(x):\n",
        "  return w*x\n",
        "\n",
        "loss = nn.MSELoss()\n",
        "optimizer = torch.optim.SGD([w],lr=learning_rate)\n",
        "\n",
        "\n",
        "print(f'Prediction before training: f(5) = {forward(5):.3f}')\n",
        "\n",
        "## Training\n",
        "learning_rate = 0.01\n",
        "n_iters = 100\n",
        "for epoch in range(n_iters):\n",
        "  #prediction = forward pass\n",
        "  y_pred = forward(X)\n",
        "\n",
        "  #loss\n",
        "  l = loss(y,y_pred)\n",
        "\n",
        "  #gradients of loss wrt w is calculated\n",
        "  l.backward()\n",
        "\n",
        "  #update weights\n",
        "  optimizer.step()\n",
        "\n",
        "  #zero gradients\n",
        "  optimizer.zero_grad()\n",
        "\n",
        "  if epoch%10 == 0:\n",
        "    print(f'epoch {epoch+1}: w = {w:.3f}, loss = {l:.8f}')\n",
        "\n",
        "print(\"Prediction after training\",forward(5))\n"
      ],
      "metadata": {
        "colab": {
          "base_uri": "https://localhost:8080/"
        },
        "id": "R3Zjl1RxOIK7",
        "outputId": "6243abf0-bdba-45ef-a8b3-53048be8ee24"
      },
      "execution_count": 7,
      "outputs": [
        {
          "output_type": "stream",
          "name": "stdout",
          "text": [
            "Prediction before training: f(5) = 0.000\n",
            "epoch 1: w = 0.300, loss = 30.00000000\n",
            "epoch 11: w = 1.665, loss = 1.16278565\n",
            "epoch 21: w = 1.934, loss = 0.04506890\n",
            "epoch 31: w = 1.987, loss = 0.00174685\n",
            "epoch 41: w = 1.997, loss = 0.00006770\n",
            "epoch 51: w = 1.999, loss = 0.00000262\n",
            "epoch 61: w = 2.000, loss = 0.00000010\n",
            "epoch 71: w = 2.000, loss = 0.00000000\n",
            "epoch 81: w = 2.000, loss = 0.00000000\n",
            "epoch 91: w = 2.000, loss = 0.00000000\n",
            "Prediction after training tensor(10.0000, grad_fn=<MulBackward0>)\n"
          ]
        }
      ]
    },
    {
      "cell_type": "code",
      "source": [
        "## uses a pytorch model\n",
        "\n",
        "import torch\n",
        "import torch.nn as nn\n",
        "\n",
        "# f = w * x\n",
        "X = torch.tensor([[1],[2],[3],[4]], dtype = torch.float32)\n",
        "y = torch.tensor([[2],[4],[6],[8]], dtype = torch.float32)\n",
        "\n",
        "n_samples, n_features = X.shape\n",
        "\n",
        "input_size = n_features\n",
        "output_size = n_features\n",
        "\n",
        "model = nn.Linear(input_size,output_size)\n",
        "\n",
        "loss = nn.MSELoss() ##This has a new shape for input\n",
        "optimizer = torch.optim.SGD(model.parameters(),lr=learning_rate)\n",
        "\n",
        "x_test = torch.tensor([5],dtype=torch.float32)\n",
        "\n",
        "print(f'Prediction before training: f(5) = {model(x_test).item():.3f}')\n",
        "\n",
        "## Training\n",
        "learning_rate = 0.01\n",
        "n_iters = 100\n",
        "for epoch in range(n_iters):\n",
        "  #prediction = forward pass\n",
        "  y_pred = model(X)\n",
        "\n",
        "  #loss\n",
        "  l = loss(y,y_pred)\n",
        "\n",
        "  #gradients of loss wrt w is calculated\n",
        "  l.backward()\n",
        "\n",
        "  #update weights\n",
        "  optimizer.step()\n",
        "\n",
        "  #zero gradients\n",
        "  optimizer.zero_grad()\n",
        "\n",
        "  if epoch%10 == 0:\n",
        "    w,b = model.parameters()\n",
        "    print(f'epoch {epoch+1}: w = {w[0][0].item():.3f}, loss = {l:.8f}')\n",
        "\n",
        "print(\"Prediction after training\",model(x_test).item())\n"
      ],
      "metadata": {
        "colab": {
          "base_uri": "https://localhost:8080/"
        },
        "id": "qxPLtXz7WqiH",
        "outputId": "e801ba06-88a0-4345-cf19-3809f6289ea2"
      },
      "execution_count": 8,
      "outputs": [
        {
          "output_type": "stream",
          "name": "stdout",
          "text": [
            "Prediction before training: f(5) = 1.980\n",
            "epoch 1: w = 0.698, loss = 20.22178268\n",
            "epoch 11: w = 1.730, loss = 0.53062212\n",
            "epoch 21: w = 1.898, loss = 0.02073188\n",
            "epoch 31: w = 1.927, loss = 0.00713213\n",
            "epoch 41: w = 1.933, loss = 0.00639638\n",
            "epoch 51: w = 1.936, loss = 0.00601576\n",
            "epoch 61: w = 1.938, loss = 0.00566541\n",
            "epoch 71: w = 1.939, loss = 0.00533565\n",
            "epoch 81: w = 1.941, loss = 0.00502507\n",
            "epoch 91: w = 1.943, loss = 0.00473260\n",
            "Prediction after training 9.885546684265137\n"
          ]
        }
      ]
    },
    {
      "cell_type": "code",
      "source": [
        "## uses a pytorch model --> Custom Regression Model\n",
        "\n",
        "import torch\n",
        "import torch.nn as nn\n",
        "model = 0\n",
        "\n",
        "# f = w * x\n",
        "X = torch.tensor([[1],[2],[3],[4]], dtype = torch.float32)\n",
        "y = torch.tensor([[2],[4],[6],[8]], dtype = torch.float32)\n",
        "\n",
        "n_samples, n_features = X.shape\n",
        "\n",
        "input_size = n_features\n",
        "output_size = n_features\n",
        "\n",
        "# model = nn.Linear(input_size,output_size)\n",
        "\n",
        "class LinearRegression(nn.Module):\n",
        "  def __init__(self,input_dim,output_dim):\n",
        "    super(LinearRegression,self).__init__()\n",
        "    ##define layers\n",
        "    self.lin = nn.Linear(input_dim,output_dim)\n",
        "\n",
        "  def forward(self,x):\n",
        "    return self.lin(x)\n",
        "\n",
        "model = LinearRegression(input_size,output_size)\n",
        "\n",
        "\n",
        "loss = nn.MSELoss() ##This has a new shape for input\n",
        "optimizer = torch.optim.SGD(model.parameters(),lr=learning_rate)\n",
        "\n",
        "x_test = torch.tensor([5],dtype=torch.float32)\n",
        "\n",
        "print(f'Prediction before training: f(5) = {model(x_test).item():.3f}')\n",
        "\n",
        "## Training\n",
        "learning_rate = 0.01\n",
        "n_iters = 100\n",
        "for epoch in range(n_iters):\n",
        "  #prediction = forward pass\n",
        "  y_pred = model(X)\n",
        "\n",
        "  #loss\n",
        "  l = loss(y,y_pred)\n",
        "\n",
        "  #gradients of loss wrt w is calculated\n",
        "  l.backward()\n",
        "\n",
        "  #update weights\n",
        "  optimizer.step()\n",
        "\n",
        "  #zero gradients\n",
        "  optimizer.zero_grad()\n",
        "\n",
        "  if epoch%10 == 0:\n",
        "    w,b = model.parameters()\n",
        "    print(f'epoch {epoch+1}: w = {w[0][0].item():.3f}, loss = {l:.8f}')\n",
        "\n",
        "print(\"Prediction after training\",model(x_test).item())\n"
      ],
      "metadata": {
        "colab": {
          "base_uri": "https://localhost:8080/"
        },
        "id": "GUppgjmjYGmt",
        "outputId": "7479f087-2d40-49de-d999-51ffd37e4bc7"
      },
      "execution_count": 13,
      "outputs": [
        {
          "output_type": "stream",
          "name": "stdout",
          "text": [
            "Prediction before training: f(5) = -3.509\n",
            "epoch 1: w = -0.516, loss = 49.64642334\n",
            "epoch 11: w = 1.107, loss = 1.76909387\n",
            "epoch 21: w = 1.382, loss = 0.50218552\n",
            "epoch 31: w = 1.440, loss = 0.44284183\n",
            "epoch 41: w = 1.463, loss = 0.41628695\n",
            "epoch 51: w = 1.480, loss = 0.39203674\n",
            "epoch 61: w = 1.496, loss = 0.36921769\n",
            "epoch 71: w = 1.511, loss = 0.34772724\n",
            "epoch 81: w = 1.525, loss = 0.32748795\n",
            "epoch 91: w = 1.539, loss = 0.30842620\n",
            "Prediction after training 9.076034545898438\n"
          ]
        }
      ]
    },
    {
      "cell_type": "code",
      "source": [
        ""
      ],
      "metadata": {
        "id": "7Zpev-NdbX4v"
      },
      "execution_count": null,
      "outputs": []
    }
  ]
}