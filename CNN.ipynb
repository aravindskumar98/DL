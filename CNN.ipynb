{
  "nbformat": 4,
  "nbformat_minor": 0,
  "metadata": {
    "colab": {
      "name": "CNN.ipynb",
      "provenance": [],
      "authorship_tag": "ABX9TyNn3tUXDa7pB+3rDwkQPgkF",
      "include_colab_link": true
    },
    "kernelspec": {
      "name": "python3",
      "display_name": "Python 3"
    },
    "language_info": {
      "name": "python"
    },
    "accelerator": "GPU"
  },
  "cells": [
    {
      "cell_type": "markdown",
      "metadata": {
        "id": "view-in-github",
        "colab_type": "text"
      },
      "source": [
        "<a href=\"https://colab.research.google.com/github/aravindskumar98/DL/blob/main/CNN.ipynb\" target=\"_parent\"><img src=\"https://colab.research.google.com/assets/colab-badge.svg\" alt=\"Open In Colab\"/></a>"
      ]
    },
    {
      "cell_type": "code",
      "execution_count": 11,
      "metadata": {
        "id": "KGNejVG_Ho-Z"
      },
      "outputs": [],
      "source": [
        "import torch\n",
        "import torch.nn as nn\n",
        "import torch.nn.functional as F\n",
        "import torchvision\n",
        "import torchvision.transforms as transforms\n",
        "import matplotlib.pyplot as plt\n",
        "import numpy as np"
      ]
    },
    {
      "cell_type": "code",
      "source": [
        "## device config\n",
        "device = torch.device('cuda' if torch.cuda.is_available() else 'cpu')"
      ],
      "metadata": {
        "id": "IgVbakSXH1yb"
      },
      "execution_count": 12,
      "outputs": []
    },
    {
      "cell_type": "code",
      "source": [
        "##hyper parameters\n",
        "num_epochs = 4\n",
        "batch_size = 4 \n",
        "learning_rate = 0.001\n",
        "\n",
        "# dataset has PILImage images of range [0,1]\n",
        "# we transform them to tensors of normalised range [-1,1]\n",
        "\n",
        "transform = transforms.Compose([transforms.ToTensor(),transforms.Normalize((0.5,0.5,0.5),(0.5,0.5,0.5))])"
      ],
      "metadata": {
        "id": "YGMnFBeiJBe3"
      },
      "execution_count": 13,
      "outputs": []
    },
    {
      "cell_type": "code",
      "source": [
        "train_dataset = torchvision.datasets.CIFAR10(root = './data', train = True, download = True, transform = transform)\n",
        "test_dataset = torchvision.datasets.CIFAR10(root = './data', train = False, download = True, transform = transform)"
      ],
      "metadata": {
        "colab": {
          "base_uri": "https://localhost:8080/"
        },
        "id": "R4HSPc5uJy_e",
        "outputId": "dfcfec1a-b283-4bc4-b46a-43a579dede21"
      },
      "execution_count": 14,
      "outputs": [
        {
          "output_type": "stream",
          "name": "stdout",
          "text": [
            "Files already downloaded and verified\n",
            "Files already downloaded and verified\n"
          ]
        }
      ]
    },
    {
      "cell_type": "code",
      "source": [
        "train_loader = torch.utils.data.DataLoader(train_dataset,batch_size = batch_size, shuffle= True)\n",
        "test_loader = torch.utils.data.DataLoader(test_dataset,batch_size = batch_size, shuffle= False)"
      ],
      "metadata": {
        "id": "HcPjs8lZLtW_"
      },
      "execution_count": 15,
      "outputs": []
    },
    {
      "cell_type": "code",
      "source": [
        "classes =('plane','car','bird','cat','deer','dog','frog','horse','ship','truck')"
      ],
      "metadata": {
        "id": "dkDJLpdyME50"
      },
      "execution_count": 16,
      "outputs": []
    },
    {
      "cell_type": "code",
      "source": [
        "## implement conv net\n",
        "class ConvNet(nn.Module):\n",
        "  def __init__(self):\n",
        "    super(ConvNet,self).__init__()\n",
        "    self.conv1 = nn.Conv2d(3,6,5) ##(color channels, output channel size, kernel size (5*5))\n",
        "    self.pool = nn.MaxPool2d(2,2) ##(kernel size, stride)\n",
        "    self.conv2 = nn.Conv2d(6,16,5)\n",
        "    self.fc1 = nn.Linear(16*5*5, 120) ## final size of each channel is 5*5 <--------------IMPORTANT!\n",
        "    self.fc2 = nn.Linear(120,84)\n",
        "    self.fc3 = nn.Linear(84,10)\n",
        "\n",
        "  def forward(self,x):\n",
        "    x = self.pool(F.relu(self.conv1(x)))\n",
        "    x = self.pool(F.relu(self.conv2(x)))\n",
        "    x = x.view(-1,16*5*5)\n",
        "    x = F.relu(self.fc1(x))\n",
        "    x = F.relu(self.fc2(x))\n",
        "    x = self.fc3(x)\n",
        "    return x\n",
        "    \n",
        "model = ConvNet().to(device)\n",
        "\n",
        "criterion = nn.CrossEntropyLoss()\n",
        "optimizer = torch.optim.SGD(model.parameters(),lr = learning_rate)\n",
        "\n"
      ],
      "metadata": {
        "id": "MKItg31cMVYe"
      },
      "execution_count": 18,
      "outputs": []
    },
    {
      "cell_type": "code",
      "source": [
        "n_total_steps = len(train_loader)\n",
        "for epoch in range(num_epochs):\n",
        "  for i,(images,labels) in enumerate(train_loader):\n",
        "    ##origin shape: [4,3,32,32]\n",
        "    ##input layer: 3 input channels, 6 output channels, 5 kernel size\n",
        "    images = images.to(device)\n",
        "    labels = labels.to(device)\n",
        "\n",
        "    #forward pass\n",
        "    outputs = model(images)\n",
        "    loss = criterion(outputs, labels)\n",
        "\n",
        "    #backwar and optimize\n",
        "    optimizer.zero_grad()\n",
        "    loss.backward()\n",
        "    optimizer.step()\n",
        "\n",
        "    if (i+1)%2000 ==0:\n",
        "      print(f'epoch {epoch+1}/{num_epochs}, step {i+1}/{n_total_steps}, loss = {loss.item():.4f}')\n",
        "\n",
        "print('Finished Training')\n",
        "\n",
        "with torch.no_grad():\n",
        "  n_correct = 0\n",
        "  n_samples = 0\n",
        "  n_class_correct = [0 for _ in range(10)]\n",
        "  n_class_samples = [0 for _ in range(10)]\n",
        "\n",
        "  for images, labels in test_loader:\n",
        "    images = images.to(device)\n",
        "    labels = labels.to(device)\n",
        "    outputs = model(images)\n",
        "    #max returns val, index\n",
        "    _,predicted = torch.max(outputs,1)\n",
        "    n_samples += labels.size(0)\n",
        "    n_correct += (predicted==labels).sum().item()\n",
        "\n",
        "    for i in range(batch_size):\n",
        "      label = labels[i]\n",
        "      pred = predicted[i]\n",
        "      if label == pred:\n",
        "        n_class_correct[label]+=1\n",
        "      n_class_samples[label]+=1\n",
        "\n",
        "  acc = 100 * n_correct / n_samples\n",
        "  print(\"Accuracy of the network : \", acc,\"%\")\n",
        "\n",
        "  for i in range(10):\n",
        "    acc = 100*n_class_correct[i]/n_class_samples[i]\n",
        "    print(f'accuracy of {classes[i]}: {acc} %')"
      ],
      "metadata": {
        "colab": {
          "base_uri": "https://localhost:8080/"
        },
        "id": "xmu0AcsbM7I-",
        "outputId": "582aa9d7-72f7-4fc8-b271-16de5119a1fa"
      },
      "execution_count": 20,
      "outputs": [
        {
          "output_type": "stream",
          "name": "stdout",
          "text": [
            "epoch 1/4, step 2000/12500, loss = 2.2201\n",
            "epoch 1/4, step 4000/12500, loss = 2.4408\n",
            "epoch 1/4, step 6000/12500, loss = 2.1348\n",
            "epoch 1/4, step 8000/12500, loss = 2.1138\n",
            "epoch 1/4, step 10000/12500, loss = 1.8268\n",
            "epoch 1/4, step 12000/12500, loss = 1.9978\n",
            "epoch 2/4, step 2000/12500, loss = 2.0607\n",
            "epoch 2/4, step 4000/12500, loss = 1.5301\n",
            "epoch 2/4, step 6000/12500, loss = 1.6085\n",
            "epoch 2/4, step 8000/12500, loss = 2.7176\n",
            "epoch 2/4, step 10000/12500, loss = 1.9907\n",
            "epoch 2/4, step 12000/12500, loss = 1.5659\n",
            "epoch 3/4, step 2000/12500, loss = 0.9518\n",
            "epoch 3/4, step 4000/12500, loss = 1.8956\n",
            "epoch 3/4, step 6000/12500, loss = 1.4369\n",
            "epoch 3/4, step 8000/12500, loss = 2.5217\n",
            "epoch 3/4, step 10000/12500, loss = 1.3141\n",
            "epoch 3/4, step 12000/12500, loss = 1.4377\n",
            "epoch 4/4, step 2000/12500, loss = 1.1229\n",
            "epoch 4/4, step 4000/12500, loss = 1.1527\n",
            "epoch 4/4, step 6000/12500, loss = 1.0860\n",
            "epoch 4/4, step 8000/12500, loss = 1.9122\n",
            "epoch 4/4, step 10000/12500, loss = 0.8188\n",
            "epoch 4/4, step 12000/12500, loss = 0.7607\n",
            "Finished Training\n",
            "Accuracy of the network :  48.36 %\n",
            "accuracy of plane: 49.3 %\n",
            "accuracy of car: 45.5 %\n",
            "accuracy of bird: 26.9 %\n",
            "accuracy of cat: 25.9 %\n",
            "accuracy of deer: 30.0 %\n",
            "accuracy of dog: 56.9 %\n",
            "accuracy of frog: 64.4 %\n",
            "accuracy of horse: 57.2 %\n",
            "accuracy of ship: 57.9 %\n",
            "accuracy of truck: 69.6 %\n"
          ]
        }
      ]
    },
    {
      "cell_type": "code",
      "source": [
        ""
      ],
      "metadata": {
        "id": "m9lfXMFVVLgI"
      },
      "execution_count": null,
      "outputs": []
    }
  ]
}