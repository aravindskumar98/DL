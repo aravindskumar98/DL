{
  "nbformat": 4,
  "nbformat_minor": 0,
  "metadata": {
    "colab": {
      "name": "ClassifierFromScratch.ipynb",
      "provenance": [],
      "authorship_tag": "ABX9TyOIJtQUbISLS0U+HL4vO2n0",
      "include_colab_link": true
    },
    "kernelspec": {
      "name": "python3",
      "display_name": "Python 3"
    },
    "language_info": {
      "name": "python"
    }
  },
  "cells": [
    {
      "cell_type": "markdown",
      "metadata": {
        "id": "view-in-github",
        "colab_type": "text"
      },
      "source": [
        "<a href=\"https://colab.research.google.com/github/aravindskumar98/DL/blob/main/ClassifierFromScratch.ipynb\" target=\"_parent\"><img src=\"https://colab.research.google.com/assets/colab-badge.svg\" alt=\"Open In Colab\"/></a>"
      ]
    },
    {
      "cell_type": "code",
      "source": [
        "import torch\n",
        "import torch.nn as nn\n",
        "import torch.nn.functional as F\n",
        "import torchvision\n",
        "import torchvision.transforms as transforms\n",
        "from torch.utils.data import TensorDataset, DataLoader\n"
      ],
      "metadata": {
        "id": "zGydHU9cW4bs"
      },
      "execution_count": 3,
      "outputs": []
    },
    {
      "cell_type": "code",
      "execution_count": 4,
      "metadata": {
        "id": "slpQIoLHUq8T"
      },
      "outputs": [],
      "source": [
        "import numpy as np\n",
        "data = np.load('Q4_data.npz')"
      ]
    },
    {
      "cell_type": "code",
      "source": [
        "X = data['X']\n",
        "y = data['Y']"
      ],
      "metadata": {
        "id": "LZ6RS0bdWQb9"
      },
      "execution_count": 5,
      "outputs": []
    },
    {
      "cell_type": "code",
      "source": [
        "device = torch.device('cuda' if torch.cuda.is_available() else 'cpu')\n"
      ],
      "metadata": {
        "id": "BEOCTELMWWBd"
      },
      "execution_count": 6,
      "outputs": []
    },
    {
      "cell_type": "code",
      "source": [
        "num_epochs = 200\n",
        "batch_size = len(X)\n",
        "learning_rate = 1"
      ],
      "metadata": {
        "id": "YzyUEql4XBOy"
      },
      "execution_count": 7,
      "outputs": []
    },
    {
      "cell_type": "code",
      "source": [
        "input_size = 2\n",
        "hidden_size = 40\n",
        "num_classes = 4"
      ],
      "metadata": {
        "id": "8n769o4UcS_Y"
      },
      "execution_count": 8,
      "outputs": []
    },
    {
      "cell_type": "code",
      "source": [
        "X = torch.Tensor(X)\n",
        "Y = torch.Tensor(y)\n",
        "# Y = F.one_hot(Y.to(torch.int64), num_classes=4)\n",
        "dataset = TensorDataset(X,Y) \n",
        "my_dataloader = DataLoader(dataset,batch_size = batch_size, shuffle = False)"
      ],
      "metadata": {
        "id": "9UxSmwr6b3Vc"
      },
      "execution_count": 9,
      "outputs": []
    },
    {
      "cell_type": "code",
      "source": [
        "class NeuralNet(nn.Module):\n",
        "\n",
        "  def __init__(self, input, hidden, num_classes):\n",
        "    super(NeuralNet,self).__init__()\n",
        "    self.l1 = nn.Linear(input,hidden)\n",
        "    self.l2 = nn.Linear(hidden,num_classes)\n",
        "  \n",
        "  def forward(self,x):\n",
        "    out = self.l2(F.relu(self.l1(x)))\n",
        "    return out\n",
        "  "
      ],
      "metadata": {
        "id": "zT9h71cVXryi"
      },
      "execution_count": 10,
      "outputs": []
    },
    {
      "cell_type": "code",
      "source": [
        "\n",
        "model = NeuralNet(input_size, hidden_size, num_classes).to(device) \n",
        "\n",
        "criterion = nn.CrossEntropyLoss()\n",
        "optimizer = torch.optim.Adam(model.parameters(),lr = learning_rate)"
      ],
      "metadata": {
        "id": "GYosroIUZHvy"
      },
      "execution_count": 11,
      "outputs": []
    },
    {
      "cell_type": "code",
      "source": [
        "total_steps = len(my_dataloader)\n",
        "for epoch in range(num_epochs):\n",
        "  for i,(inputData,labels) in enumerate(my_dataloader):\n",
        "    inputData = inputData.to(device)\n",
        "    labels = labels.to(device)\n",
        "    outputs = model(inputData)\n",
        "    # outputs = model(inputData)\n",
        "    loss = criterion(outputs,labels.long())\n",
        "\n",
        "    #backwards\n",
        "    optimizer.zero_grad()\n",
        "    loss.backward()\n",
        "    optimizer.step()\n",
        "\n",
        "    if epoch%10 == 0:\n",
        "      print(f'epoch {epoch+1}/{num_epochs}, step {i+1}/{total_steps}, loss = {loss.item():.4f}')\n",
        "\n",
        "with torch.no_grad():\n",
        "  n_correct = 0\n",
        "  n_samples = 0\n",
        "  for inputData, labels in my_dataloader:\n",
        "    inputData = inputData.to(device)\n",
        "    labels = labels.to(device)\n",
        "    outputs = model(inputData)\n",
        "\n",
        "    # value, index is returned\n",
        "    _,predictions = torch.max(outputs,1)\n",
        "    n_samples+=labels.shape[0]\n",
        "    n_correct+=(predictions == labels).sum().item() \n",
        "\n",
        "acc = 100.0*n_correct/n_samples\n",
        "\n",
        "print(\"accuracy\", acc)"
      ],
      "metadata": {
        "colab": {
          "base_uri": "https://localhost:8080/"
        },
        "id": "iABL3_AycxxO",
        "outputId": "72a2c3f5-c910-4158-9632-165151752e69"
      },
      "execution_count": 12,
      "outputs": [
        {
          "output_type": "stream",
          "name": "stdout",
          "text": [
            "epoch 1/200, step 1/1, loss = 1.6169\n",
            "epoch 11/200, step 1/1, loss = 9.5477\n",
            "epoch 21/200, step 1/1, loss = 2.7251\n",
            "epoch 31/200, step 1/1, loss = 1.8017\n",
            "epoch 41/200, step 1/1, loss = 0.8008\n",
            "epoch 51/200, step 1/1, loss = 0.3353\n",
            "epoch 61/200, step 1/1, loss = 1.1281\n",
            "epoch 71/200, step 1/1, loss = 0.3703\n",
            "epoch 81/200, step 1/1, loss = 0.6105\n",
            "epoch 91/200, step 1/1, loss = 0.1258\n",
            "epoch 101/200, step 1/1, loss = 0.1142\n",
            "epoch 111/200, step 1/1, loss = 0.0902\n",
            "epoch 121/200, step 1/1, loss = 0.0418\n",
            "epoch 131/200, step 1/1, loss = 0.0376\n",
            "epoch 141/200, step 1/1, loss = 0.0349\n",
            "epoch 151/200, step 1/1, loss = 0.0332\n",
            "epoch 161/200, step 1/1, loss = 0.0315\n",
            "epoch 171/200, step 1/1, loss = 0.0300\n",
            "epoch 181/200, step 1/1, loss = 0.0286\n",
            "epoch 191/200, step 1/1, loss = 0.0272\n",
            "accuracy 100.0\n"
          ]
        }
      ]
    },
    {
      "cell_type": "code",
      "source": [
        ""
      ],
      "metadata": {
        "id": "J9HdLNlFdnQi"
      },
      "execution_count": 12,
      "outputs": []
    }
  ]
}