{
  "nbformat": 4,
  "nbformat_minor": 0,
  "metadata": {
    "colab": {
      "name": "Logistic_Regression.ipynb",
      "provenance": [],
      "authorship_tag": "ABX9TyMpZ3r5WCa7inZp/8qRoRHB",
      "include_colab_link": true
    },
    "kernelspec": {
      "name": "python3",
      "display_name": "Python 3"
    },
    "language_info": {
      "name": "python"
    }
  },
  "cells": [
    {
      "cell_type": "markdown",
      "metadata": {
        "id": "view-in-github",
        "colab_type": "text"
      },
      "source": [
        "<a href=\"https://colab.research.google.com/github/aravindskumar98/DL/blob/main/Logistic_Regression.ipynb\" target=\"_parent\"><img src=\"https://colab.research.google.com/assets/colab-badge.svg\" alt=\"Open In Colab\"/></a>"
      ]
    },
    {
      "cell_type": "code",
      "execution_count": 20,
      "metadata": {
        "id": "62tUkRokaMq7"
      },
      "outputs": [],
      "source": [
        "import torch\n",
        "import torch.nn as nn\n",
        "import numpy as np\n",
        "from sklearn import datasets\n",
        "from sklearn.preprocessing import StandardScaler\n",
        "from sklearn.model_selection import train_test_split\n",
        "import matplotlib.pyplot as plt"
      ]
    },
    {
      "cell_type": "code",
      "source": [
        "# 1. Model\n",
        "# 2. Loss and Optimizer\n",
        "# 3. Training Loop"
      ],
      "metadata": {
        "id": "1AW7LVyodeA0"
      },
      "execution_count": 21,
      "outputs": []
    },
    {
      "cell_type": "code",
      "source": [
        "#prepare data\n",
        "bc = datasets.load_breast_cancer()\n",
        "X,y = bc.data, bc.target\n",
        "\n",
        "n_samples, n_features = X.shape\n",
        "\n",
        "X_train, X_test, y_train, y_test = train_test_split(X,y,test_size = 0.2, random_state = 1234)\n",
        "\n",
        "## scale features\n",
        "sc = StandardScaler() ##zero mean and unit variance\n",
        "\n",
        "X_train = sc.fit_transform(X_train) ##fit transform here\n",
        "X_test = sc.transform(X_test) ##only transform here\n",
        "\n",
        "X_train = torch.from_numpy(X_train.astype(np.float32))\n",
        "y_train = torch.from_numpy(y_train.astype(np.float32))\n",
        "X_test = torch.from_numpy(X_test.astype(np.float32))\n",
        "y_test = torch.from_numpy(y_test.astype(np.float32))\n",
        "\n",
        "y_train = y_train.view(y_train.shape[0],1)\n",
        "y_test = y_test.view(y_test.shape[0],1)"
      ],
      "metadata": {
        "id": "A61wtUoBahiC"
      },
      "execution_count": 27,
      "outputs": []
    },
    {
      "cell_type": "code",
      "source": [
        "#1 Set up model\n",
        "# f = wx+b, sigmoid at end\n",
        "\n",
        "class LogisticRegression(nn.Module):\n",
        "  def __init__(self,n_input_features):\n",
        "    super(LogisticRegression,self).__init__()\n",
        "    self.linear = nn.Linear(n_input_features,1)\n",
        "  \n",
        "  def forward(self,x):\n",
        "    y_predicted = torch.sigmoid(self.linear(x))\n",
        "    return y_predicted\n",
        "\n",
        "model = LogisticRegression(n_features)"
      ],
      "metadata": {
        "id": "6iwSWyUvbTW8"
      },
      "execution_count": 28,
      "outputs": []
    },
    {
      "cell_type": "code",
      "source": [
        "##2 loss and optimizer\n",
        "criterion = nn.BCELoss() ##binary cross entropy\n",
        "optimizer = torch.optim.SGD(model.parameters(),lr = 0.01)"
      ],
      "metadata": {
        "id": "QqgwkE5BbXmk"
      },
      "execution_count": 29,
      "outputs": []
    },
    {
      "cell_type": "code",
      "source": [
        "##3 training loop\n",
        "\n",
        "n_epochs = 100\n",
        "for n in range(n_epochs):\n",
        "  #forward pass\n",
        "  y_pred = model(X_train)\n",
        "\n",
        "  #loss calculation\n",
        "  loss = criterion(y_pred,y_train)\n",
        "\n",
        "  #gradient\n",
        "  loss.backward()\n",
        "\n",
        "  #update weights\n",
        "  optimizer.step()\n",
        "\n",
        "  #wipe the gradients\n",
        "  optimizer.zero_grad()\n",
        "\n",
        "  if n%10 == 1:\n",
        "    print(\"epoch\", n+1, \"loss = \", loss.item() )\n",
        "\n",
        "y_predicted = model(X_test).detach()#.numpy()\n",
        "y_pred_class = y_predicted.round()\n",
        "acc = y_pred_class.eq(y_test).sum() / float(y_test.shape[0])\n",
        "print(\"accuracy = \",acc.item())\n"
      ],
      "metadata": {
        "colab": {
          "base_uri": "https://localhost:8080/"
        },
        "id": "zHiHkxn5bix8",
        "outputId": "414aabb4-56c9-498c-c63d-8508aecc16f6"
      },
      "execution_count": 30,
      "outputs": [
        {
          "output_type": "stream",
          "name": "stdout",
          "text": [
            "epoch 2 loss =  0.6127383708953857\n",
            "epoch 12 loss =  0.5023515820503235\n",
            "epoch 22 loss =  0.4321066439151764\n",
            "epoch 32 loss =  0.38352295756340027\n",
            "epoch 42 loss =  0.3477599024772644\n",
            "epoch 52 loss =  0.320185124874115\n",
            "epoch 62 loss =  0.2981613576412201\n",
            "epoch 72 loss =  0.28008249402046204\n",
            "epoch 82 loss =  0.26491522789001465\n",
            "epoch 92 loss =  0.2519645392894745\n",
            "accuracy =  0.8771929740905762\n"
          ]
        }
      ]
    }
  ]
}